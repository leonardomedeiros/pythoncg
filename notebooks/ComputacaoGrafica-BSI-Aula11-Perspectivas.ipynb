{
 "cells": [
  {
   "cell_type": "code",
   "execution_count": 3,
   "metadata": {},
   "outputs": [],
   "source": [
    "#Transformaçõs de perspectivas 1\n",
    "import cv2\n",
    "import numpy as np\n",
    "image = cv2.imread('img/scan.jpg',0)\n",
    "cv2.imshow('Original', image)\n",
    "cv2.waitKey(0)\n",
    "# Cordinates of the 4 corners of the original image\n",
    "points_A = np.float32([[320,15], [700,215], [85,610], [530,780]])\n",
    "# Cordinates of the 4 corners of the desired output\n",
    "points_B = np.float32([[0,0], [420,0], [0,594], [420,594]]) \n",
    "M = cv2.getPerspectiveTransform(points_A, points_B) \n",
    "warped = cv2.warpPerspective(image, M, (420,594)) \n",
    "cv2.imshow('warpPerspective', warped)\n",
    "cv2.imwrite('../img/imgwarped4.jpg', warped)\n",
    "cv2.waitKey(0)\n",
    "cv2.destroyAllWindows()"
   ]
  },
  {
   "cell_type": "code",
   "execution_count": null,
   "metadata": {},
   "outputs": [],
   "source": [
    "#Transformaçõs de perspectivas 2\n",
    "import cv2\n",
    "import numpy as np\n",
    "import matplotlib.pyplot as plt\n",
    "image = cv2.imread('img/scan.jpg',0)\n",
    "cv2.imshow('Original', image)\n",
    "rols,cols = image.shape\n",
    "cv2.waitKey(0)\n",
    "# Cordinates of the 4 corners of the original image\n",
    "points_A = np.float32([[320,15], [700,215], [85,610]])\n",
    "# Cordinates of the 4 corners of the desired output\n",
    "# We use a ratio of an A4 Paper 1 : 1.41\n",
    "points_B = np.float32([[0,0], [420,0], [0,594]]) \n",
    "# Use the two sets of four points to compute \n",
    "# the Perspective Transformation matrix, M    \n",
    "M = cv2.getAffineTransform(points_A, points_B) \n",
    "warped = cv2.warpAffine(image, M, (rols, cols)) \n",
    "cv2.imshow('warpPerspective', warped)\n",
    "cv2.imwrite('../img/imgwarped3.jpg', warped)\n",
    "cv2.waitKey(0)\n",
    "cv2.destroyAllWindows()"
   ]
  },
  {
   "cell_type": "code",
   "execution_count": null,
   "metadata": {},
   "outputs": [],
   "source": []
  }
 ],
 "metadata": {
  "kernelspec": {
   "display_name": "Python 3",
   "language": "python",
   "name": "python3"
  },
  "language_info": {
   "codemirror_mode": {
    "name": "ipython",
    "version": 3
   },
   "file_extension": ".py",
   "mimetype": "text/x-python",
   "name": "python",
   "nbconvert_exporter": "python",
   "pygments_lexer": "ipython3",
   "version": "3.8.3"
  }
 },
 "nbformat": 4,
 "nbformat_minor": 4
}
