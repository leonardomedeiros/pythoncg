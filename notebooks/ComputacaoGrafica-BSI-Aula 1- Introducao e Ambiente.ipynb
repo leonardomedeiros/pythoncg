{
 "cells": [
  {
   "cell_type": "code",
   "execution_count": null,
   "metadata": {},
   "outputs": [],
   "source": [
    "import cv2\n",
    "print(cv2.__version__)"
   ]
  },
  {
   "cell_type": "code",
   "execution_count": 15,
   "metadata": {},
   "outputs": [
    {
     "name": "stdout",
     "output_type": "stream",
     "text": [
      "1.18.5\n"
     ]
    }
   ],
   "source": [
    "import numpy as np\n",
    "print(np.__version__)"
   ]
  },
  {
   "cell_type": "code",
   "execution_count": 16,
   "metadata": {},
   "outputs": [],
   "source": [
    "import cv2\n",
    "import numpy as np\n",
    "\n",
    "image = cv2.imread('input.jpg')\n",
    "cv2.imshow('Figura', image)\n",
    "cv2.waitKey()\n",
    "cv2.destroyAllWindows()"
   ]
  },
  {
   "cell_type": "code",
   "execution_count": 18,
   "metadata": {},
   "outputs": [
    {
     "data": {
      "text/plain": [
       "True"
      ]
     },
     "execution_count": 18,
     "metadata": {},
     "output_type": "execute_result"
    }
   ],
   "source": [
    "import cv2 \n",
    "\n",
    "input = cv2.imread('input.jpg')\n",
    "\n",
    "cv2.imshow('Hello World', input)\n",
    "cv2.waitKey()\n",
    "cv2.destroyAllWindows()\n",
    "\n",
    "# Simply use 'imwrite' specificing the file name and the image to be saved\n",
    "cv2.imwrite('output.jpg', input)\n"
   ]
  },
  {
   "cell_type": "code",
   "execution_count": 17,
   "metadata": {},
   "outputs": [
    {
     "name": "stdout",
     "output_type": "stream",
     "text": [
      "(830, 1245, 3)\n",
      "Height of Image:\n",
      "830\n",
      "Width of Image:\n",
      "1245\n"
     ]
    }
   ],
   "source": [
    "# Import numpy\n",
    "import numpy as np\n",
    "\n",
    "input = cv2.imread('img/input.jpg')\n",
    "print(input.shape)\n",
    "\n",
    "#Shape gives the dimensions of the image array\n",
    "# Let's print each dimension of the image\n",
    "print('Height of Image:')\n",
    "print(int(input.shape[0]))\n",
    "print('Width of Image:')\n",
    "print(int(input.shape[1]))"
   ]
  },
  {
   "cell_type": "code",
   "execution_count": 19,
   "metadata": {},
   "outputs": [
    {
     "name": "stdout",
     "output_type": "stream",
     "text": [
      "[[[12 18 31]\n",
      "  [12 18 31]\n",
      "  [11 17 30]\n",
      "  ...\n",
      "  [21 24 38]\n",
      "  [21 24 38]\n",
      "  [21 24 38]]\n",
      "\n",
      " [[12 18 31]\n",
      "  [12 18 31]\n",
      "  [12 18 31]\n",
      "  ...\n",
      "  [21 24 38]\n",
      "  [21 24 38]\n",
      "  [21 24 38]]\n",
      "\n",
      " [[12 18 31]\n",
      "  [12 18 31]\n",
      "  [12 18 31]\n",
      "  ...\n",
      "  [21 24 38]\n",
      "  [21 24 38]\n",
      "  [21 24 38]]\n",
      "\n",
      " ...\n",
      "\n",
      " [[ 4  7 12]\n",
      "  [ 4  7 12]\n",
      "  [ 3  7 12]\n",
      "  ...\n",
      "  [18 23 38]\n",
      "  [19 24 39]\n",
      "  [20 25 40]]\n",
      "\n",
      " [[ 3  6 11]\n",
      "  [ 3  6 11]\n",
      "  [ 3  6 11]\n",
      "  ...\n",
      "  [18 23 38]\n",
      "  [19 24 39]\n",
      "  [20 25 40]]\n",
      "\n",
      " [[ 3  6 11]\n",
      "  [ 3  6 11]\n",
      "  [ 2  5 10]\n",
      "  ...\n",
      "  [18 23 38]\n",
      "  [18 23 38]\n",
      "  [19 24 39]]]\n"
     ]
    }
   ],
   "source": [
    "print(input)"
   ]
  },
  {
   "cell_type": "code",
   "execution_count": null,
   "metadata": {},
   "outputs": [],
   "source": []
  }
 ],
 "metadata": {
  "kernelspec": {
   "display_name": "Python 3",
   "language": "python",
   "name": "python3"
  },
  "language_info": {
   "codemirror_mode": {
    "name": "ipython",
    "version": 3
   },
   "file_extension": ".py",
   "mimetype": "text/x-python",
   "name": "python",
   "nbconvert_exporter": "python",
   "pygments_lexer": "ipython3",
   "version": "3.8.3"
  }
 },
 "nbformat": 4,
 "nbformat_minor": 4
}
