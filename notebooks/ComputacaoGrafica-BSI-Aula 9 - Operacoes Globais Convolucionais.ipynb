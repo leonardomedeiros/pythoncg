{
 "cells": [
  {
   "cell_type": "code",
   "execution_count": 12,
   "metadata": {},
   "outputs": [
    {
     "name": "stdout",
     "output_type": "stream",
     "text": [
      "[[ 7  7]\n",
      " [13 17]]\n",
      "[[-1  6]\n",
      " [12  8]]\n"
     ]
    }
   ],
   "source": [
    "#Multiplicação de Matrizes em Numpy\n",
    "import numpy as np\n",
    "# Matriz 2x2 A = [1 2\n",
    "#                 3 4]\n",
    "A = np.array([[1, 2], [3, 4]])\n",
    "# Matriz 2x2 B = [-1 3\n",
    "#                 4 2]\n",
    "B = np.array([[-1, 3], [4, 2]])\n",
    "\n",
    "MultMatrizes = np.dot(A,B)\n",
    "#Elemento a Elemento\n",
    "Produto = A*B\n",
    "\n",
    "print(MultMatrizes)\n",
    "print(Produto)"
   ]
  },
  {
   "cell_type": "code",
   "execution_count": 13,
   "metadata": {},
   "outputs": [],
   "source": [
    "#Convolucao Por Filtro de Media\n",
    "import cv2\n",
    "import numpy as np\n",
    "\n",
    "imagemruido = cv2.imread('img/imgruido.jpg')\n",
    "kernel = np.ones((3,3),np.float32)/9\n",
    "#ddepth - the output image depth (-1 to use src.depth()).\n",
    "filteredimage = cv2.filter2D(imagemruido,-1,kernel)\n",
    "cv2.imshow('Imagem Original com Ruido', imagemruido)\n",
    "cv2.imshow('Imagem Filtrada Por Media', filteredimage)\n",
    "cv2.imwrite('img/filteredimage.jpg', filteredimage)\n",
    "originalimage = cv2.imread('img/imgoriginal.jpg')\n",
    "cv2.imshow('Imagem Original', originalimage)\n",
    "cv2.waitKey(0) \n",
    "cv2.destroyAllWindows()"
   ]
  },
  {
   "cell_type": "code",
   "execution_count": 16,
   "metadata": {},
   "outputs": [],
   "source": [
    "#Filtro de Sharpenning\n",
    "import cv2\n",
    "import numpy as np\n",
    "\n",
    "imagemruido = cv2.imread('img/imgruido.jpg')\n",
    "kernel_sharpening = np.array([[-1,-1,-1], \n",
    "                              [-1,9,-1], \n",
    "                              [-1,-1,-1]])\n",
    "#ddepth - the output image depth (-1 to use src.depth()).\n",
    "filteredimage = cv2.filter2D(imagemruido,-1,kernel_sharpening)\n",
    "cv2.imshow('Imagem Original com Ruido', imagemruido)\n",
    "cv2.imshow('Imagem Filtrada Por Sharpenning', filteredimage)\n",
    "cv2.imwrite('img/sharpenedimage.jpg', filteredimage)\n",
    "originalimage = cv2.imread('img/imgoriginal.jpg')\n",
    "cv2.imshow('Imagem Original', originalimage)\n",
    "cv2.waitKey(0) \n",
    "cv2.destroyAllWindows()"
   ]
  },
  {
   "cell_type": "code",
   "execution_count": null,
   "metadata": {},
   "outputs": [],
   "source": [
    "#Filtro de Blue e Sharpenning\n",
    "import cv2\n",
    "import numpy as np\n",
    "\n",
    "imagemruido = cv2.imread('img/imgruido.jpg')\n",
    "kernel_blur = np.ones((5,5),np.float32)/25\n",
    "kernel_sharpening = np.array([[-1,-1,-1], \n",
    "                              [-1,9,-1], \n",
    "                              [-1,-1,-1]])\n",
    "#ddepth - the output image depth (-1 to use src.depth()).\n",
    "filteredimage = cv2.filter2D(imagemruido,-1,kernel_blur)\n",
    "filteredimage = cv2.filter2D(filteredimage,-1,kernel_sharpening)\n",
    "cv2.imshow('Imagem Original com Ruido', imagemruido)\n",
    "cv2.imshow('Imagem Filtrada Por Sharpenning', filteredimage)\n",
    "cv2.imwrite('../img/blurredsharpenedimage.jpg', filteredimage)\n",
    "originalimage = cv2.imread('img/imgoriginal.jpg')\n",
    "cv2.imshow('Imagem Original', originalimage)\n",
    "cv2.waitKey(0) \n",
    "cv2.destroyAllWindows()"
   ]
  },
  {
   "cell_type": "code",
   "execution_count": null,
   "metadata": {},
   "outputs": [],
   "source": []
  }
 ],
 "metadata": {
  "kernelspec": {
   "display_name": "Python 3",
   "language": "python",
   "name": "python3"
  },
  "language_info": {
   "codemirror_mode": {
    "name": "ipython",
    "version": 3
   },
   "file_extension": ".py",
   "mimetype": "text/x-python",
   "name": "python",
   "nbconvert_exporter": "python",
   "pygments_lexer": "ipython3",
   "version": "3.8.3"
  }
 },
 "nbformat": 4,
 "nbformat_minor": 4
}
