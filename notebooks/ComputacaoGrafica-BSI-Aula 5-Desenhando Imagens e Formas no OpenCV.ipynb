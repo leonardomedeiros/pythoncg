{
 "cells": [
  {
   "cell_type": "markdown",
   "metadata": {},
   "source": [
    "# IFAL - BSI - Computação Gráfica - Aula 5 - Desenhando Imagens e Formas"
   ]
  },
  {
   "cell_type": "code",
   "execution_count": 1,
   "metadata": {},
   "outputs": [],
   "source": [
    "#Desenhando um Quadro Vazio\n",
    "import cv2\n",
    "import numpy as np\n",
    "\n",
    "# Create a black image\n",
    "image = np.zeros((512,512,3), np.uint8)\n",
    "\n",
    "\n",
    "# Can we make this in black and white?\n",
    "image_bw = np.zeros((512,512), np.uint8)\n",
    "\n",
    "cv2.imshow(\"Black Rectangle (Color)\", image)\n",
    "cv2.imshow(\"Black Rectangle (B&W)\", image_bw)\n",
    "\n",
    "cv2.imwrite('img/blankRectangle.jpg', image)\n",
    "\n",
    "cv2.waitKey(0)\n",
    "cv2.destroyAllWindows()"
   ]
  },
  {
   "cell_type": "code",
   "execution_count": 9,
   "metadata": {},
   "outputs": [],
   "source": [
    "#Desenha uma Linha Azul de Ponta a Ponta\n",
    "import cv2\n",
    "import numpy as np\n",
    "\n",
    "# Draw a diagonal blue line of thickness of 5 pixels\n",
    "image = np.zeros((512,512,3), np.uint8)\n",
    "cv2.line(image, (0,0), (511,511), (255,127,0), 5)\n",
    "cv2.imshow(\"Blue Line\", image)\n",
    "cv2.imwrite('img/blankBlueLine.jpg', image)\n",
    "cv2.waitKey(0)\n",
    "cv2.destroyAllWindows()"
   ]
  },
  {
   "cell_type": "code",
   "execution_count": 11,
   "metadata": {},
   "outputs": [],
   "source": [
    "#Desenhar um Círculo Preenchido\n",
    "import cv2\n",
    "import numpy as np\n",
    "\n",
    "image = np.zeros((512,512,3), np.uint8)\n",
    "\n",
    "cv2.circle(image, (350, 350), 100, (15,75,50), -1) \n",
    "cv2.imshow(\"Circle\", image)\n",
    "cv2.imwrite('img/circle.jpg', image)\n",
    "cv2.waitKey(0)\n",
    "cv2.destroyAllWindows()"
   ]
  },
  {
   "cell_type": "code",
   "execution_count": 5,
   "metadata": {},
   "outputs": [],
   "source": [
    "#Desenhar um Polígono\n",
    "import cv2\n",
    "import numpy as np\n",
    "\n",
    "image = np.zeros((512,512,3), np.uint8)\n",
    "\n",
    "# Let's define four points\n",
    "pts = np.array( [[10,50], [400,50], [90,200], [50,500]], np.int32)\n",
    "\n",
    "# Let's now reshape our points in form  required by polylines\n",
    "pts = pts.reshape((-1,1,2))\n",
    "\n",
    "cv2.polylines(image, [pts], True, (0,0,255), 3)\n",
    "cv2.imshow(\"Polygon\", image)\n",
    "cv2.imwrite('img/polygon.jpg', image)\n",
    "cv2.waitKey(0)\n",
    "cv2.destroyAllWindows()"
   ]
  },
  {
   "cell_type": "code",
   "execution_count": 6,
   "metadata": {},
   "outputs": [],
   "source": [
    "#Desenhar um Retângulo\n",
    "import cv2\n",
    "import numpy as np\n",
    "\n",
    "# Draw a Rectangle in\n",
    "image = np.zeros((512,512,3), np.uint8)\n",
    "\n",
    "cv2.rectangle(image, (100,100), (300,250), (127,50,127), -1)\n",
    "cv2.imshow(\"Rectangle\", image)\n",
    "cv2.imwrite('img/rectangle.jpg', image)\n",
    "cv2.waitKey(0)\n",
    "cv2.destroyAllWindows()"
   ]
  },
  {
   "cell_type": "code",
   "execution_count": 7,
   "metadata": {},
   "outputs": [],
   "source": [
    "#Escrever um texto\n",
    "import cv2\n",
    "import numpy as np\n",
    "\n",
    "image = np.zeros((512,512,3), np.uint8)\n",
    "\n",
    "cv2.putText(image, 'Alo IFAL', (75,290), cv2.FONT_HERSHEY_COMPLEX, 2, (100,170,0), 3)\n",
    "cv2.imshow(\"Alo IFAL Titulo\", image)\n",
    "cv2.imwrite('img/text.jpg', image)\n",
    "cv2.waitKey(0)\n",
    "cv2.destroyAllWindows()"
   ]
  },
  {
   "cell_type": "markdown",
   "metadata": {},
   "source": [
    "**Operações em Imagens"
   ]
  },
  {
   "cell_type": "code",
   "execution_count": 12,
   "metadata": {},
   "outputs": [],
   "source": [
    "#Operação Soma\n",
    "import cv2\n",
    "import numpy as np\n",
    "\n",
    "imgrectangle = cv2.imread('img/rectangle.jpg')\n",
    "imgcircle = cv2.imread('img/circle.jpg')\n",
    "imgtext = cv2.imread('img/text.jpg')\n",
    "\n",
    "image = imgcircle + imgrectangle + imgtext\n",
    "\n",
    "cv2.imshow(\"Imagem\", image)\n",
    "cv2.imwrite('img/operacaosoma.jpg', image)\n",
    "\n",
    "cv2.waitKey(0)\n",
    "cv2.destroyAllWindows()"
   ]
  },
  {
   "cell_type": "code",
   "execution_count": 13,
   "metadata": {},
   "outputs": [],
   "source": [
    "#Operação Subtração\n",
    "import cv2\n",
    "import numpy as np\n",
    "\n",
    "imgrectangle = cv2.imread('img/rectangle.jpg')\n",
    "imgcircle = cv2.imread('img/circle.jpg')\n",
    "imgtext = cv2.imread('img/text.jpg')\n",
    "\n",
    "image = imgcircle + imgrectangle - imgtext\n",
    "\n",
    "cv2.imshow(\"Imagem\", image)\n",
    "cv2.imwrite('img/operacaosubtracao.jpg', image)\n",
    "\n",
    "cv2.waitKey(0)\n",
    "cv2.destroyAllWindows()"
   ]
  },
  {
   "cell_type": "markdown",
   "metadata": {},
   "source": [
    "**Operações Lógicas"
   ]
  },
  {
   "cell_type": "code",
   "execution_count": 14,
   "metadata": {},
   "outputs": [],
   "source": [
    "#Desenhando Quadrado e Elipse\n",
    "import cv2\n",
    "import numpy as np\n",
    "\n",
    "# Making a sqare\n",
    "square = np.zeros((300, 300), np.uint8)\n",
    "cv2.rectangle(square, (50, 50), (250, 250), 255, -2)\n",
    "cv2.imshow(\"Square\", square)\n",
    "cv2.imwrite('img/square.jpg', square)\n",
    "cv2.waitKey(0)\n",
    "\n",
    "# Making a ellipse\n",
    "ellipse = np.zeros((300, 300), np.uint8)\n",
    "cv2.ellipse(ellipse, (150, 150), (150, 150), 30, 0, 180, 255, -1)\n",
    "cv2.imshow(\"Ellipse\", ellipse)\n",
    "cv2.imwrite('img/ellipse.jpg', ellipse)\n",
    "cv2.waitKey(0)\n",
    "\n",
    "cv2.destroyAllWindows()"
   ]
  },
  {
   "cell_type": "code",
   "execution_count": 15,
   "metadata": {},
   "outputs": [],
   "source": [
    "#Operação Lógica de AND\n",
    "import cv2\n",
    "import numpy as np\n",
    "\n",
    "square = np.zeros((300, 300), np.uint8)\n",
    "cv2.rectangle(square, (50, 50), (250, 250), 255, -2)\n",
    "\n",
    "ellipse = np.zeros((300, 300), np.uint8)\n",
    "cv2.ellipse(ellipse, (150, 150), (150, 150), 30, 0, 180, 255, -1)\n",
    "\n",
    "imageand = cv2.bitwise_and(square, ellipse)\n",
    "cv2.imshow(\"AND\", imageand)\n",
    "cv2.imwrite('img/bitwiseoperationand.jpg', imageand)\n",
    "cv2.waitKey(0)\n",
    "\n",
    "cv2.destroyAllWindows()"
   ]
  },
  {
   "cell_type": "code",
   "execution_count": 16,
   "metadata": {},
   "outputs": [],
   "source": [
    "#Operação Lógica de OR\n",
    "import cv2\n",
    "import numpy as np\n",
    "\n",
    "square = np.zeros((300, 300), np.uint8)\n",
    "cv2.rectangle(square, (50, 50), (250, 250), 255, -2)\n",
    "\n",
    "ellipse = np.zeros((300, 300), np.uint8)\n",
    "cv2.ellipse(ellipse, (150, 150), (150, 150), 30, 0, 180, 255, -1)\n",
    "\n",
    "imageor = cv2.bitwise_or(square, ellipse)\n",
    "cv2.imshow(\"OR\", imageor)\n",
    "cv2.imwrite('../img/bitwiseoperationor.jpg', imageor)\n",
    "cv2.waitKey(0)\n",
    "\n",
    "cv2.destroyAllWindows()"
   ]
  },
  {
   "cell_type": "code",
   "execution_count": 14,
   "metadata": {},
   "outputs": [],
   "source": [
    "#Operação Lógica de XOR\n",
    "import cv2\n",
    "import numpy as np\n",
    "\n",
    "square = np.zeros((300, 300), np.uint8)\n",
    "cv2.rectangle(square, (50, 50), (250, 250), 255, -2)\n",
    "\n",
    "ellipse = np.zeros((300, 300), np.uint8)\n",
    "cv2.ellipse(ellipse, (150, 150), (150, 150), 30, 0, 180, 255, -1)\n",
    "\n",
    "imagexor = cv2.bitwise_xor(square, ellipse)\n",
    "cv2.imshow(\"XOR\", imagexor)\n",
    "cv2.imwrite('../img/bitwiseoperationxor.jpg', imagexor)\n",
    "cv2.waitKey(0)\n",
    "\n",
    "cv2.destroyAllWindows()"
   ]
  },
  {
   "cell_type": "code",
   "execution_count": 17,
   "metadata": {},
   "outputs": [],
   "source": [
    "#Operação Lógica de NOT\n",
    "import cv2\n",
    "import numpy as np\n",
    "\n",
    "square = np.zeros((300, 300), np.uint8)\n",
    "cv2.rectangle(square, (50, 50), (250, 250), 255, -2)\n",
    "\n",
    "ellipse = np.zeros((300, 300), np.uint8)\n",
    "cv2.ellipse(ellipse, (150, 150), (150, 150), 30, 0, 180, 255, -1)\n",
    "\n",
    "imagenot = cv2.bitwise_not(square, ellipse)\n",
    "cv2.imshow(\"NOT\", imagenot)\n",
    "cv2.imwrite('../img/bitwiseoperationnot.jpg', imagenot)\n",
    "cv2.waitKey(0)\n",
    "\n",
    "cv2.destroyAllWindows()"
   ]
  },
  {
   "cell_type": "code",
   "execution_count": null,
   "metadata": {},
   "outputs": [],
   "source": []
  }
 ],
 "metadata": {
  "kernelspec": {
   "display_name": "Python 3",
   "language": "python",
   "name": "python3"
  },
  "language_info": {
   "codemirror_mode": {
    "name": "ipython",
    "version": 3
   },
   "file_extension": ".py",
   "mimetype": "text/x-python",
   "name": "python",
   "nbconvert_exporter": "python",
   "pygments_lexer": "ipython3",
   "version": "3.8.3"
  }
 },
 "nbformat": 4,
 "nbformat_minor": 4
}
