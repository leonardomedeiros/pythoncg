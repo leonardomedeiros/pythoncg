{
 "cells": [
  {
   "cell_type": "markdown",
   "metadata": {},
   "source": [
    "# Repostas dos Exercícios da Aula 3"
   ]
  },
  {
   "cell_type": "markdown",
   "metadata": {},
   "source": [
    "Exercício 1:\n",
    "Calcular a média final (usando os seguintes critérios) dadas as notas das 3 provas e produzir uma saída com a média e a situação do aluno de acordo com o seguinte critério: \n",
    "    * média >= 7 : aprovado;\n",
    "    * 5 < média < 7: recuperação;\n",
    "\t*  média < 5: reprovado"
   ]
  },
  {
   "cell_type": "code",
   "execution_count": null,
   "metadata": {},
   "outputs": [],
   "source": [
    "nota1 = float(input('Imprima o Valor da Nota 1: '))\n",
    "nota2 = float(input('Imprima o Valor da Nota 2: '))\n",
    "nota3 = float(input('Imprima o Valor da Nota 3: '))\n",
    "\n",
    "media = (nota1+nota2+nota3)/3\n",
    "print('Sua média foi:' + str(media))\n",
    "\n",
    "if (media>=7):\n",
    "    print('Aprovado')\n",
    "elif (media>5) & (media<7):\n",
    "    print('Recuperação')\n",
    "else:\n",
    "    print('Reprovado')"
   ]
  },
  {
   "cell_type": "markdown",
   "metadata": {},
   "source": [
    "#### Exercício 2:\n",
    "Leia a velocidade máxima permitida em uma avenida e a velocidade com que o motorista estava dirigindo nela e calcule a multa que uma pessoa vai receber, sabendo que são pagos: \n",
    "    * 50 reais se o motorista estiver ultrapassar em até 10km/h a velocidade permitida \n",
    "\t* 100 reais, se o motorista ultrapassar de 11 a 30 km/h a velocidade permitida. \n",
    "\t* 200 reais, se estiver acima de 31km/h da velocidade permitida."
   ]
  },
  {
   "cell_type": "code",
   "execution_count": null,
   "metadata": {},
   "outputs": [
    {
     "name": "stdout",
     "output_type": "stream",
     "text": [
      "Programa de cálculo de mutas em uma avenida\n"
     ]
    }
   ],
   "source": [
    "print('Programa de cálculo de mutas em uma avenida')\n",
    "velmaxima = int(input('Informe qual a velocidade máxima permitida nessa faixa: '))\n",
    "velatual = int(input('Informe a velocidade em que o motorista está dirigindo: '))\n",
    "\n",
    "if (velatual > velmaxima + 31):\n",
    "    print('Multa 200 Reais')\n",
    "elif (velatual > velmaxima + 11) & (velatual <= velmaxima+30):\n",
    "    print('Multa 100 Reais')\n",
    "elif (velatual> velmaxima) & (velatual <= velmaxima + 10):\n",
    "    print('Multa 50 Reais')\n",
    "else: \n",
    "    print('O Motorista não recebeu multas')"
   ]
  },
  {
   "cell_type": "code",
   "execution_count": null,
   "metadata": {},
   "outputs": [],
   "source": []
  },
  {
   "cell_type": "code",
   "execution_count": null,
   "metadata": {},
   "outputs": [],
   "source": []
  }
 ],
 "metadata": {
  "kernelspec": {
   "display_name": "Python 3",
   "language": "python",
   "name": "python3"
  },
  "language_info": {
   "codemirror_mode": {
    "name": "ipython",
    "version": 3
   },
   "file_extension": ".py",
   "mimetype": "text/x-python",
   "name": "python",
   "nbconvert_exporter": "python",
   "pygments_lexer": "ipython3",
   "version": "3.8.3"
  }
 },
 "nbformat": 4,
 "nbformat_minor": 4
}
